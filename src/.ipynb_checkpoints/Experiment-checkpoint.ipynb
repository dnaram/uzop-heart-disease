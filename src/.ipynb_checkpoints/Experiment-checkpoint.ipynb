{
 "cells": [
  {
   "cell_type": "markdown",
   "id": "b2265aec",
   "metadata": {},
   "source": [
    "# 0. Data Loading"
   ]
  },
  {
   "cell_type": "code",
   "execution_count": 69,
   "id": "e49ef479",
   "metadata": {},
   "outputs": [],
   "source": [
    "import matplotlib.pyplot as plt\n",
    "import numpy as np\n",
    "import pandas as pd\n",
    "\n",
    "from math import sqrt, log\n",
    "from statistics import mean, stdev"
   ]
  },
  {
   "cell_type": "code",
   "execution_count": 16,
   "id": "efa041cc",
   "metadata": {},
   "outputs": [
    {
     "data": {
      "text/html": [
       "<div>\n",
       "<style scoped>\n",
       "    .dataframe tbody tr th:only-of-type {\n",
       "        vertical-align: middle;\n",
       "    }\n",
       "\n",
       "    .dataframe tbody tr th {\n",
       "        vertical-align: top;\n",
       "    }\n",
       "\n",
       "    .dataframe thead th {\n",
       "        text-align: right;\n",
       "    }\n",
       "</style>\n",
       "<table border=\"1\" class=\"dataframe\">\n",
       "  <thead>\n",
       "    <tr style=\"text-align: right;\">\n",
       "      <th></th>\n",
       "      <th>Age</th>\n",
       "      <th>Sex</th>\n",
       "      <th>ChestPainType</th>\n",
       "      <th>RestingBP</th>\n",
       "      <th>Cholesterol</th>\n",
       "      <th>FastingBS</th>\n",
       "      <th>RestingECG</th>\n",
       "      <th>MaxHR</th>\n",
       "      <th>ExerciseAngina</th>\n",
       "      <th>Oldpeak</th>\n",
       "      <th>ST_Slope</th>\n",
       "      <th>HeartDisease</th>\n",
       "    </tr>\n",
       "  </thead>\n",
       "  <tbody>\n",
       "    <tr>\n",
       "      <th>0</th>\n",
       "      <td>40</td>\n",
       "      <td>M</td>\n",
       "      <td>ATA</td>\n",
       "      <td>140</td>\n",
       "      <td>289</td>\n",
       "      <td>0</td>\n",
       "      <td>Normal</td>\n",
       "      <td>172</td>\n",
       "      <td>N</td>\n",
       "      <td>0.0</td>\n",
       "      <td>Up</td>\n",
       "      <td>0</td>\n",
       "    </tr>\n",
       "    <tr>\n",
       "      <th>1</th>\n",
       "      <td>49</td>\n",
       "      <td>F</td>\n",
       "      <td>NAP</td>\n",
       "      <td>160</td>\n",
       "      <td>180</td>\n",
       "      <td>0</td>\n",
       "      <td>Normal</td>\n",
       "      <td>156</td>\n",
       "      <td>N</td>\n",
       "      <td>1.0</td>\n",
       "      <td>Flat</td>\n",
       "      <td>1</td>\n",
       "    </tr>\n",
       "    <tr>\n",
       "      <th>2</th>\n",
       "      <td>37</td>\n",
       "      <td>M</td>\n",
       "      <td>ATA</td>\n",
       "      <td>130</td>\n",
       "      <td>283</td>\n",
       "      <td>0</td>\n",
       "      <td>ST</td>\n",
       "      <td>98</td>\n",
       "      <td>N</td>\n",
       "      <td>0.0</td>\n",
       "      <td>Up</td>\n",
       "      <td>0</td>\n",
       "    </tr>\n",
       "    <tr>\n",
       "      <th>3</th>\n",
       "      <td>48</td>\n",
       "      <td>F</td>\n",
       "      <td>ASY</td>\n",
       "      <td>138</td>\n",
       "      <td>214</td>\n",
       "      <td>0</td>\n",
       "      <td>Normal</td>\n",
       "      <td>108</td>\n",
       "      <td>Y</td>\n",
       "      <td>1.5</td>\n",
       "      <td>Flat</td>\n",
       "      <td>1</td>\n",
       "    </tr>\n",
       "    <tr>\n",
       "      <th>4</th>\n",
       "      <td>54</td>\n",
       "      <td>M</td>\n",
       "      <td>NAP</td>\n",
       "      <td>150</td>\n",
       "      <td>195</td>\n",
       "      <td>0</td>\n",
       "      <td>Normal</td>\n",
       "      <td>122</td>\n",
       "      <td>N</td>\n",
       "      <td>0.0</td>\n",
       "      <td>Up</td>\n",
       "      <td>0</td>\n",
       "    </tr>\n",
       "  </tbody>\n",
       "</table>\n",
       "</div>"
      ],
      "text/plain": [
       "   Age Sex ChestPainType  RestingBP  Cholesterol  FastingBS RestingECG  MaxHR  \\\n",
       "0   40   M           ATA        140          289          0     Normal    172   \n",
       "1   49   F           NAP        160          180          0     Normal    156   \n",
       "2   37   M           ATA        130          283          0         ST     98   \n",
       "3   48   F           ASY        138          214          0     Normal    108   \n",
       "4   54   M           NAP        150          195          0     Normal    122   \n",
       "\n",
       "  ExerciseAngina  Oldpeak ST_Slope  HeartDisease  \n",
       "0              N      0.0       Up             0  \n",
       "1              N      1.0     Flat             1  \n",
       "2              N      0.0       Up             0  \n",
       "3              Y      1.5     Flat             1  \n",
       "4              N      0.0       Up             0  "
      ]
     },
     "execution_count": 16,
     "metadata": {},
     "output_type": "execute_result"
    }
   ],
   "source": [
    "heart = pd.read_csv('../dataset/heart_extended.csv')\n",
    "heart.head()"
   ]
  },
  {
   "cell_type": "markdown",
   "id": "a74f4be6",
   "metadata": {},
   "source": [
    "# 1. Exploratory Data Analysis"
   ]
  },
  {
   "cell_type": "markdown",
   "id": "26c973e0",
   "metadata": {},
   "source": [
    "## 1.1. Histograms and pie charts"
   ]
  },
  {
   "cell_type": "code",
   "execution_count": 68,
   "id": "456b0a94",
   "metadata": {},
   "outputs": [],
   "source": [
    "def plot_quantity(attribute: str):\n",
    "    x = heart[attribute].tolist()\n",
    "    \n",
    "    if len(set(x)) == 2:\n",
    "        # Pie chart, where the slices will be ordered and plotted counter-clockwise:\n",
    "        labels = set(x)\n",
    "        sizes = [x.count(label) for label in labels]\n",
    "        explode = (0, 0.1)\n",
    "\n",
    "        fig1, ax1 = plt.subplots()\n",
    "        ax1.pie(sizes, explode=explode, labels=labels, autopct='%1.1f%%',\n",
    "                    shadow=True, startangle=90)\n",
    "        ax1.axis('equal')  # Equal aspect ratio ensures that pie is drawn as a circle.\n",
    "\n",
    "        plt.title(attribute)\n",
    "        plt.show()\n",
    "    else:\n",
    "        bins = calculate_bins(x)\n",
    "    \n",
    "        plt.title(attribute)\n",
    "        plt.xlabel('categories')\n",
    "        plt.ylabel('values')\n",
    "\n",
    "        plt.hist(x, bins = bins, rwidth=5)\n",
    "        plt.show()\n",
    "    \n",
    "def calculate_bins(x):\n",
    "    if type(x[0]) == str:\n",
    "        bins = len(set(x))\n",
    "    else:\n",
    "        no_of_observations = len(x)\n",
    "        bins = round(log(no_of_observations, 2))\n",
    "        \n",
    "    return bins"
   ]
  },
  {
   "cell_type": "code",
   "execution_count": 50,
   "id": "73cc161c",
   "metadata": {},
   "outputs": [
    {
     "data": {
      "text/plain": [
       "0"
      ]
     },
     "execution_count": 50,
     "metadata": {},
     "output_type": "execute_result"
    }
   ],
   "source": [
    "def calculate_mean(x):\n",
    "    return mean(x)\n",
    "\n",
    "def calculate_stddev(x):\n",
    "    return stdev(x)\n",
    "\n",
    "def calculate_quantiles(x, percents=[25, 50, 75]):\n",
    "    percentiles = []\n",
    "    percentiles.append(min(x))\n",
    "    for percent in percents:\n",
    "        p = np.percentile(x, percent)\n",
    "        percentiles.append(p)\n",
    "    percentiles.append(max(x))\n",
    "    return percentiles"
   ]
  },
  {
   "cell_type": "code",
   "execution_count": null,
   "id": "2c75a590",
   "metadata": {},
   "outputs": [],
   "source": []
  }
 ],
 "metadata": {
  "kernelspec": {
   "display_name": "Python 3",
   "language": "python",
   "name": "python3"
  },
  "language_info": {
   "codemirror_mode": {
    "name": "ipython",
    "version": 3
   },
   "file_extension": ".py",
   "mimetype": "text/x-python",
   "name": "python",
   "nbconvert_exporter": "python",
   "pygments_lexer": "ipython3",
   "version": "3.8.8"
  }
 },
 "nbformat": 4,
 "nbformat_minor": 5
}
